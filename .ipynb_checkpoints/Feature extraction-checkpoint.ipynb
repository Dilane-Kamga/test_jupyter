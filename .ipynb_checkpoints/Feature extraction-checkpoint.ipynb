{
 "cells": [
  {
   "cell_type": "markdown",
   "metadata": {
    "id": "jKdDDmK8nbl2"
   },
   "source": [
    "# GWP2 Feature extraction\n"
   ]
  },
  {
   "cell_type": "markdown",
   "metadata": {
    "id": "8k05fYv6niSV"
   },
   "source": [
    "## Definition\n",
    "\n",
    "In financial engineering, we mostly work with time series data, since many financial data are time series data and time series analysis is a powerful tool for understanding and predicting trends in Finance and others industries. **Feature extraction** is an important step in this process that involves transforming raw data into meaningful features that can be used to train models for prediction and analysis."
   ]
  },
  {
   "cell_type": "markdown",
   "metadata": {
    "id": "2e231bHznkIB"
   },
   "source": [
    "## Description\n",
    "\n",
    "\n",
    "Feature extraction is an important step in financial engineering. It involves selecting, transforming, extracting, combining, and manipulating raw data to generate the desired variables for analysis or predictive modeling. Its aims is to answer the following question: Are the available features necessary to explain the behavior of the target variable, or can these features be aggregated and grouped in a way that maintains the effect on the target variable while reducing the number of features?"
   ]
  },
  {
   "cell_type": "markdown",
   "metadata": {
    "id": "pkS5O9-jnnQm"
   },
   "source": [
    "## Demonstration\n",
    "\n",
    "In order to demonstrate feature extraction, we will download the apple daily data from Yahoo, FRED with prices (open, high, low, close) from 2020 to 2022."
   ]
  },
  {
   "cell_type": "code",
   "execution_count": 4,
   "metadata": {
    "colab": {
     "base_uri": "https://localhost:8080/",
     "height": 241
    },
    "id": "hX6DI-Ik0Zr0",
    "outputId": "8dbf3663-38bc-4e7e-822a-9f323a98f606"
   },
   "outputs": [
    {
     "name": "stdout",
     "output_type": "stream",
     "text": [
      "[*********************100%***********************]  1 of 1 completed\n"
     ]
    },
    {
     "data": {
      "text/html": [
       "<div>\n",
       "<style scoped>\n",
       "    .dataframe tbody tr th:only-of-type {\n",
       "        vertical-align: middle;\n",
       "    }\n",
       "\n",
       "    .dataframe tbody tr th {\n",
       "        vertical-align: top;\n",
       "    }\n",
       "\n",
       "    .dataframe thead th {\n",
       "        text-align: right;\n",
       "    }\n",
       "</style>\n",
       "<table border=\"1\" class=\"dataframe\">\n",
       "  <thead>\n",
       "    <tr style=\"text-align: right;\">\n",
       "      <th></th>\n",
       "      <th>Open</th>\n",
       "      <th>High</th>\n",
       "      <th>Low</th>\n",
       "      <th>Close</th>\n",
       "      <th>Adj Close</th>\n",
       "      <th>Volume</th>\n",
       "    </tr>\n",
       "    <tr>\n",
       "      <th>Date</th>\n",
       "      <th></th>\n",
       "      <th></th>\n",
       "      <th></th>\n",
       "      <th></th>\n",
       "      <th></th>\n",
       "      <th></th>\n",
       "    </tr>\n",
       "  </thead>\n",
       "  <tbody>\n",
       "    <tr>\n",
       "      <th>2020-01-31</th>\n",
       "      <td>77.792738</td>\n",
       "      <td>78.581547</td>\n",
       "      <td>77.207857</td>\n",
       "      <td>77.979048</td>\n",
       "      <td>76.277857</td>\n",
       "      <td>1.397319e+08</td>\n",
       "    </tr>\n",
       "    <tr>\n",
       "      <th>2020-02-29</th>\n",
       "      <td>77.578421</td>\n",
       "      <td>78.813158</td>\n",
       "      <td>76.681579</td>\n",
       "      <td>77.817631</td>\n",
       "      <td>76.261694</td>\n",
       "      <td>1.589094e+08</td>\n",
       "    </tr>\n",
       "    <tr>\n",
       "      <th>2020-03-31</th>\n",
       "      <td>65.268410</td>\n",
       "      <td>67.423181</td>\n",
       "      <td>63.711591</td>\n",
       "      <td>65.611023</td>\n",
       "      <td>64.331969</td>\n",
       "      <td>2.854578e+08</td>\n",
       "    </tr>\n",
       "    <tr>\n",
       "      <th>2020-04-30</th>\n",
       "      <td>67.952857</td>\n",
       "      <td>68.945357</td>\n",
       "      <td>67.021072</td>\n",
       "      <td>68.096547</td>\n",
       "      <td>66.769040</td>\n",
       "      <td>1.554904e+08</td>\n",
       "    </tr>\n",
       "    <tr>\n",
       "      <th>2020-05-31</th>\n",
       "      <td>77.221375</td>\n",
       "      <td>78.312875</td>\n",
       "      <td>76.595250</td>\n",
       "      <td>77.496376</td>\n",
       "      <td>76.142075</td>\n",
       "      <td>1.402968e+08</td>\n",
       "    </tr>\n",
       "  </tbody>\n",
       "</table>\n",
       "</div>"
      ],
      "text/plain": [
       "                 Open       High        Low      Close  Adj Close  \\\n",
       "Date                                                                \n",
       "2020-01-31  77.792738  78.581547  77.207857  77.979048  76.277857   \n",
       "2020-02-29  77.578421  78.813158  76.681579  77.817631  76.261694   \n",
       "2020-03-31  65.268410  67.423181  63.711591  65.611023  64.331969   \n",
       "2020-04-30  67.952857  68.945357  67.021072  68.096547  66.769040   \n",
       "2020-05-31  77.221375  78.312875  76.595250  77.496376  76.142075   \n",
       "\n",
       "                  Volume  \n",
       "Date                      \n",
       "2020-01-31  1.397319e+08  \n",
       "2020-02-29  1.589094e+08  \n",
       "2020-03-31  2.854578e+08  \n",
       "2020-04-30  1.554904e+08  \n",
       "2020-05-31  1.402968e+08  "
      ]
     },
     "execution_count": 4,
     "metadata": {},
     "output_type": "execute_result"
    }
   ],
   "source": [
    "# Import Libraries\n",
    "import pandas as pd\n",
    "import yfinance as yf\n",
    "\n",
    "# Load the data\n",
    "data = yf.download('AAPL', start='2020-01-01', end='2022-01-01')\n",
    "\n",
    "# Extract features to monthly frequencies and annualy frequency\n",
    "monthly_data = data.resample('M').mean()\n",
    "annualy_data = data.resample('Y').mean()\n",
    "\n",
    "# Display monthly data\n",
    "monthly_data.head()"
   ]
  },
  {
   "cell_type": "markdown",
   "metadata": {},
   "source": [
    "In this example, we use the yfinance library to download stock price data for Apple (AAPL) from Yahoo Finance. We then extract the yearly and monthly data by resampling"
   ]
  },
  {
   "cell_type": "markdown",
   "metadata": {
    "id": "Briql-PMnpWR"
   },
   "source": [
    "## Diagram\n",
    "\n",
    "Here we will visualize as a line plot the montly data (Close) as well as the daily data (Close) in order to see the difference"
   ]
  },
  {
   "cell_type": "code",
   "execution_count": 8,
   "metadata": {
    "colab": {
     "base_uri": "https://localhost:8080/",
     "height": 513
    },
    "id": "x3djwDw50Zx0",
    "outputId": "a87c7dc4-8a5d-4493-ed1e-03ecf7bbf348"
   },
   "outputs": [
    {
     "data": {
      "image/png": "[encoded data removed]",
      "text/plain": [
       "<Figure size 720x360 with 1 Axes>"
      ]
     },
     "metadata": {
      "needs_background": "light"
     },
     "output_type": "display_data"
    }
   ],
   "source": [
    "# Import Libraries\n",
    "import matplotlib.pyplot as plt\n",
    "\n",
    "# Plot the montly data\n",
    "plt.figure(figsize=(10, 5))\n",
    "plt.plot(monthly_data['Close'])\n",
    "plt.title('Monthly Apple Stock Price')\n",
    "plt.xlabel('Date')\n",
    "plt.ylabel('Price')\n",
    "plt.show()"
   ]
  },
  {
   "cell_type": "code",
   "execution_count": 9,
   "metadata": {},
   "outputs": [
    {
     "data": {
      "image/png": "[encoded data removed]",
      "text/plain": [
       "<Figure size 720x360 with 1 Axes>"
      ]
     },
     "metadata": {
      "needs_background": "light"
     },
     "output_type": "display_data"
    }
   ],
   "source": [
    "# Plot the data\n",
    "plt.figure(figsize=(10, 5))\n",
    "plt.plot(data['Close'])\n",
    "plt.title('Daily Apple Stock Price')\n",
    "plt.xlabel('Date')\n",
    "plt.ylabel('Price')\n",
    "plt.show()"
   ]
  },
  {
   "cell_type": "markdown",
   "metadata": {
    "id": "ShNZRdQDnwgM"
   },
   "source": [
    "## Diagnosis \n",
    "\n",
    "We can see that both charts follow the same pattern. Features extractions helps us to reduce our dataset and get some new features that are easier to work with. However the daily line chart is smother than the monthly. With feature extraction we have lost some informations, and the monthly chart is less intutive to understand, so it can cause us to make wrong decisions. "
   ]
  },
  {
   "cell_type": "markdown",
   "metadata": {
    "id": "sSBZUChWnzKk"
   },
   "source": [
    "## Damage\n",
    "\n",
    "\n",
    "In financial engineering, Feature extraction is a technique to reduce the number of features in a dataset by creating new features from the existing ones 1. The process of feature extraction can help to reduce the amount of redundant data for a given analysis and can also reduce the number of resources needed for processing without losing important or relevant information .\n",
    "\n",
    "The impact of feature extraction on Time series data especially in Finance can be significant. Properly optimized feature extraction is often considered to be the key to effective model construction 3. However, it’s important to note that the effectiveness of feature extraction techniques can depend on the specific dataset and problem being analyzed."
   ]
  },
  {
   "cell_type": "markdown",
   "metadata": {
    "id": "vmhPb3Kun10b"
   },
   "source": [
    "## Directions\n",
    "\n",
    "In Financial Engineering, there are various feature extraction techniques that can be used for time series analysis.\n",
    "\n",
    "Resampling: it is a technique used to change the frequency of time-series data. It involves changing the time period of the data by aggregating or downsampling it to a lower frequency (e.g., from daily to monthly as we did previously) or upsampling it to a higher frequency (e.g., from monthly to daily)\n",
    "\n",
    "Moving Average: it is a technique used to smooth out time series data by averaging the values over a rolling window. This can help to remove noise and reveal trends in the data\n",
    "\n",
    "Exponential Smoothing: it is a technique used to smooth out time series data by giving more weight to recent values. This can help to remove noise and reveal trends in the data\n",
    "\n",
    "Principal component analysis (PCA): it is a technique for reducing the dimensionality of data by identifying patterns and correlations between variables. It is also use to tacle multicollinearity issues.\n",
    "\n"
   ]
  },
  {
   "cell_type": "markdown",
   "metadata": {
    "id": "-eFaDwuG6QVp"
   },
   "source": [
    "## Reference\n",
    "\n",
    "1) Feature Engineering. Corporate Finance Institute. https://corporatefinanceinstitute.com/resources/data-science/feature-engineering/\n",
    "\n",
    "2) Time Series Feature Extraction with Python and Pandas: Techniques and Examples. https://medium.com/geekculture/time-series-feature-extraction-with-python-and-pandas-techniques-and-examples-2e2158de5356"
   ]
  },
  {
   "cell_type": "code",
   "execution_count": null,
   "metadata": {},
   "outputs": [],
   "source": []
  },
  {
   "cell_type": "markdown",
   "metadata": {
    "id": "-eFaDwuG6QVp"
   },
   "source": [
    "## Reference\n",
    "\n",
    "1) Feature Engineering. Corporate Finance Institute. https://corporatefinanceinstitute.com/resources/data-science/feature-engineering/\n",
    "\n",
    "2) Time Series Feature Extraction with Python and Pandas: Techniques and Examples. https://medium.com/geekculture/time-series-feature-extraction-with-python-and-pandas-techniques-and-examples-2e2158de5356"
   ]
  },
  {
   "cell_type": "markdown",
   "metadata": {
    "id": "-eFaDwuG6QVp"
   },
   "source": [
    "## Reference\n",
    "\n",
    "1) Feature Engineering. Corporate Finance Institute. https://corporatefinanceinstitute.com/resources/data-science/feature-engineering/\n",
    "\n",
    "2) Time Series Feature Extraction with Python and Pandas: Techniques and Examples. https://medium.com/geekculture/time-series-feature-extraction-with-python-and-pandas-techniques-and-examples-2e2158de5356"
   ]
  },
  {
   "cell_type": "markdown",
   "metadata": {
    "id": "-eFaDwuG6QVp"
   },
   "source": [
    "## Reference\n",
    "\n",
    "1) Feature Engineering. Corporate Finance Institute. https://corporatefinanceinstitute.com/resources/data-science/feature-engineering/\n",
    "\n",
    "2) Time Series Feature Extraction with Python and Pandas: Techniques and Examples. https://medium.com/geekculture/time-series-feature-extraction-with-python-and-pandas-techniques-and-examples-2e2158de5356"
   ]
  },
  {
   "cell_type": "markdown",
   "metadata": {
    "id": "-eFaDwuG6QVp"
   },
   "source": [
    "## Reference\n",
    "\n",
    "1) Feature Engineering. Corporate Finance Institute. https://corporatefinanceinstitute.com/resources/data-science/feature-engineering/\n",
    "\n",
    "2) Time Series Feature Extraction with Python and Pandas: Techniques and Examples. https://medium.com/geekculture/time-series-feature-extraction-with-python-and-pandas-techniques-and-examples-2e2158de5356"
   ]
  },
  {
   "cell_type": "markdown",
   "metadata": {
    "id": "-eFaDwuG6QVp"
   },
   "source": [
    "## Reference\n",
    "\n",
    "1) Feature Engineering. Corporate Finance Institute. https://corporatefinanceinstitute.com/resources/data-science/feature-engineering/\n",
    "\n",
    "2) Time Series Feature Extraction with Python and Pandas: Techniques and Examples. https://medium.com/geekculture/time-series-feature-extraction-with-python-and-pandas-techniques-and-examples-2e2158de5356"
   ]
  },
  {
   "cell_type": "markdown",
   "metadata": {
    "id": "-eFaDwuG6QVp"
   },
   "source": [
    "## Reference\n",
    "\n",
    "1) Feature Engineering. Corporate Finance Institute. https://corporatefinanceinstitute.com/resources/data-science/feature-engineering/\n",
    "\n",
    "2) Time Series Feature Extraction with Python and Pandas: Techniques and Examples. https://medium.com/geekculture/time-series-feature-extraction-with-python-and-pandas-techniques-and-examples-2e2158de5356"
   ]
  },
  {
   "cell_type": "markdown",
   "metadata": {
    "id": "-eFaDwuG6QVp"
   },
   "source": [
    "## Reference\n",
    "\n",
    "1) Feature Engineering. Corporate Finance Institute. https://corporatefinanceinstitute.com/resources/data-science/feature-engineering/\n",
    "\n",
    "2) Time Series Feature Extraction with Python and Pandas: Techniques and Examples. https://medium.com/geekculture/time-series-feature-extraction-with-python-and-pandas-techniques-and-examples-2e2158de5356"
   ]
  },
  {
   "cell_type": "markdown",
   "metadata": {
    "id": "-eFaDwuG6QVp"
   },
   "source": [
    "## Reference\n",
    "\n",
    "1) Feature Engineering. Corporate Finance Institute. https://corporatefinanceinstitute.com/resources/data-science/feature-engineering/\n",
    "\n",
    "2) Time Series Feature Extraction with Python and Pandas: Techniques and Examples. https://medium.com/geekculture/time-series-feature-extraction-with-python-and-pandas-techniques-and-examples-2e2158de5356"
   ]
  },
  {
   "cell_type": "markdown",
   "metadata": {
    "id": "-eFaDwuG6QVp"
   },
   "source": [
    "## Reference\n",
    "\n",
    "1) Feature Engineering. Corporate Finance Institute. https://corporatefinanceinstitute.com/resources/data-science/feature-engineering/\n",
    "\n",
    "2) Time Series Feature Extraction with Python and Pandas: Techniques and Examples. https://medium.com/geekculture/time-series-feature-extraction-with-python-and-pandas-techniques-and-examples-2e2158de5356"
   ]
  },
  {
   "cell_type": "markdown",
   "metadata": {
    "id": "-eFaDwuG6QVp"
   },
   "source": [
    "## Reference\n",
    "\n",
    "1) Feature Engineering. Corporate Finance Institute. https://corporatefinanceinstitute.com/resources/data-science/feature-engineering/\n",
    "\n",
    "2) Time Series Feature Extraction with Python and Pandas: Techniques and Examples. https://medium.com/geekculture/time-series-feature-extraction-with-python-and-pandas-techniques-and-examples-2e2158de5356"
   ]
  },
  {
   "cell_type": "markdown",
   "metadata": {
    "id": "-eFaDwuG6QVp"
   },
   "source": [
    "## Reference\n",
    "\n",
    "1) Feature Engineering. Corporate Finance Institute. https://corporatefinanceinstitute.com/resources/data-science/feature-engineering/\n",
    "\n",
    "2) Time Series Feature Extraction with Python and Pandas: Techniques and Examples. https://medium.com/geekculture/time-series-feature-extraction-with-python-and-pandas-techniques-and-examples-2e2158de5356"
   ]
  },
  {
   "cell_type": "markdown",
   "metadata": {
    "id": "-eFaDwuG6QVp"
   },
   "source": [
    "## Reference\n",
    "\n",
    "1) Feature Engineering. Corporate Finance Institute. https://corporatefinanceinstitute.com/resources/data-science/feature-engineering/\n",
    "\n",
    "2) Time Series Feature Extraction with Python and Pandas: Techniques and Examples. https://medium.com/geekculture/time-series-feature-extraction-with-python-and-pandas-techniques-and-examples-2e2158de5356"
   ]
  }
 ],
 "metadata": {
  "colab": {
   "provenance": []
  },
  "kernelspec": {
   "display_name": "Python 3",
   "language": "python",
   "name": "python3"
  },
  "language_info": {
   "codemirror_mode": {
    "name": "ipython",
    "version": 3
   },
   "file_extension": ".py",
   "mimetype": "text/x-python",
   "name": "python",
   "nbconvert_exporter": "python",
   "pygments_lexer": "ipython3",
   "version": "3.8.8"
  }
 },
 "nbformat": 4,
 "nbformat_minor": 4
}
